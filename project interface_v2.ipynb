{
 "cells": [
  {
   "cell_type": "markdown",
   "id": "70d6ade1-1f22-47c9-928a-bcd1b7484f39",
   "metadata": {},
   "source": [
    "This Jupyter Notebook cell demonstrates the process of loading a health dataset (specifically focusing on Body Mass Index, or BMI), preparing the data, training a Decision Tree Classifier, and evaluating its performance.\n",
    "\n",
    "### Steps involved:\n",
    "\n",
    "1. **Data Loading**:\n",
    "   - The dataset, stored in a CSV file named 'bmi.csv', is loaded into a pandas DataFrame. This dataset is expected to contain records with features: Gender, Height, and Weight, alongside an Index that possibly represents a health or BMI category.\n",
    "\n",
    "2. **Data Preprocessing**:\n",
    "   - The `Gender` column, which contains string values, is converted to numeric form to facilitate machine learning model processing. This conversion is achieved using the `LabelEncoder` from `sklearn.preprocessing`.\n",
    "\n",
    "3. **Feature Selection and Data Splitting**:\n",
    "   - The DataFrame is then split into input features (`X`) and the target variable (`Y`). Here, `X` includes the Gender, Height, and Weight columns, while `Y` is the Index column.\n",
    "   - The dataset is further divided into training and testing sets using `train_test_split` from `sklearn.model_selection`, with 20% of the data reserved for testing.\n",
    "\n",
    "4. **Model Training**:\n",
    "   - A Decision Tree Classifier is initialized and trained on the training set. This classifier is chosen for its simplicity and effectiveness in handling both numerical and categorical data.\n",
    "\n",
    "5. **Prediction and Evaluation**:\n",
    "   - The trained model is then used to make predictions on the test set. The performance of the model is evaluated using accuracy as the metric, alongside a detailed classification report. These evaluations help in understanding the model's effectiveness in predicting the correct health or BMI categories based on the given features.\n",
    "\n",
    "### Code Output:\n",
    "- The output of this cell includes the accuracy of the model on the test set and a classification report that details the precision, recall, and F1-score for each class in the target variable.\n"
   ]
  },
  {
   "cell_type": "code",
   "execution_count": 2,
   "id": "8ad93695-615d-4613-8156-bc626d1c6797",
   "metadata": {},
   "outputs": [
    {
     "name": "stdout",
     "output_type": "stream",
     "text": [
      "Accuracy: 0.88\n",
      "\n",
      "Classification Report:\n",
      "               precision    recall  f1-score   support\n",
      "\n",
      "           0       1.00      1.00      1.00         1\n",
      "           1       1.00      1.00      1.00         4\n",
      "           2       0.86      1.00      0.92        18\n",
      "           3       0.78      0.88      0.82         8\n",
      "           4       0.91      0.70      0.79        30\n",
      "           5       0.88      0.95      0.91        39\n",
      "\n",
      "    accuracy                           0.88       100\n",
      "   macro avg       0.90      0.92      0.91       100\n",
      "weighted avg       0.88      0.88      0.88       100\n",
      "\n"
     ]
    }
   ],
   "source": [
    "import tkinter as tk\n",
    "from tkinter import ttk, messagebox\n",
    "import pandas as pd\n",
    "from sklearn.model_selection import train_test_split\n",
    "from sklearn.tree import DecisionTreeClassifier\n",
    "from sklearn.preprocessing import LabelEncoder\n",
    "from sklearn.metrics import classification_report, accuracy_score\n",
    "\n",
    "# Load the data\n",
    "data = pd.read_csv('bmi.csv')\n",
    "\n",
    "# Convert 'Gender' from string to numeric using LabelEncoder\n",
    "label_encoder = LabelEncoder()\n",
    "data['Gender'] = label_encoder.fit_transform(data['Gender'])\n",
    "\n",
    "# Split data into features (X) and the target variable (Y)\n",
    "X = data.drop('Index', axis=1)  # Features: Gender, Height, Weight\n",
    "Y = data['Index']                # Target variable: Index\n",
    "\n",
    "# Split the data into training and testing sets\n",
    "X_train, X_test, Y_train, Y_test = train_test_split(X, Y, test_size=0.2, random_state=42)\n",
    "\n",
    "# Initialize and train the Decision Tree Classifier\n",
    "clf = DecisionTreeClassifier(random_state=42)\n",
    "clf.fit(X_train, Y_train)\n",
    "\n",
    "# Make predictions on the test set\n",
    "predictions = clf.predict(X_test)\n",
    "\n",
    "# Evaluate the classifier\n",
    "print(\"Accuracy:\", accuracy_score(Y_test, predictions))\n",
    "print(\"\\nClassification Report:\\n\", classification_report(Y_test, predictions))\n"
   ]
  },
  {
   "cell_type": "markdown",
   "id": "d69b31d8-b70f-42c2-84aa-81925f60ebc2",
   "metadata": {},
   "source": [
    "This code snippet demonstrates how to create a graphical user interface (GUI) application using the Tkinter library in Python, designed for a health prediction context. The application, named \"Health Me Up!\", allows users to input their gender, height, and weight, and then predicts their health index based on a pre-trained Decision Tree Classifier.\n",
    "\n",
    "### Key Components of the Application:\n",
    "\n",
    "1. **Initialization**:\n",
    "   - The application inherits from Tkinter's `Tk` class. Upon initialization, it sets the window title to \"Health Me Up!\" and configures the background color.\n",
    "\n",
    "2. **User Input Fields**:\n",
    "   - It features three input fields where users can enter their gender (coded as Male=0, Female=1), height in centimeters, and weight in kilograms. These fields are labeled accordingly for user convenience.\n",
    "\n",
    "3. **Prediction Mechanism**:\n",
    "   - A \"Predict\" button is provided. When clicked, it triggers the `predict` method, which retrieves the values entered by the user, converts them into the appropriate numeric format, and passes them to the pre-trained Decision Tree Classifier to predict the health index.\n",
    "   - The prediction result is then displayed in an informational message box, providing the user with their predicted health index.\n",
    "\n",
    "4. **Error Handling**:\n",
    "   - If the user enters invalid values (non-numeric), the application catches this error and displays an error message prompting the user to enter valid numeric values. This ensures the application can handle input errors gracefully and inform the user accordingly.\n",
    "\n",
    "5. **Application Execution**:\n",
    "   - The application is executed within a conditional block that checks if the script is the main program. This is a common Python idiom for scripts intended to be run as the main program. It prevents the code from being executed when the script is imported as a module in another script.\n",
    "\n",
    "### Running the Application:\n",
    "To run the application, ensure you have Tkinter installed in your Python environment, as well as the necessary machine learning libraries and the pre-trained Decision Tree Classifier (`clf`) available in the scope. The application window can be launched by executing the script. Users can then interact with the GUI to input their details and receive health index predictions\n"
   ]
  },
  {
   "cell_type": "code",
   "execution_count": 3,
   "id": "f2170694-19c8-4625-9041-1267b38be9ad",
   "metadata": {
    "scrolled": true
   },
   "outputs": [
    {
     "name": "stderr",
     "output_type": "stream",
     "text": [
      "/Users/raulsood/Desktop/Google-Image-Scraper/venv/lib/python3.11/site-packages/sklearn/base.py:493: UserWarning: X does not have valid feature names, but DecisionTreeClassifier was fitted with feature names\n",
      "  warnings.warn(\n",
      "/Users/raulsood/Desktop/Google-Image-Scraper/venv/lib/python3.11/site-packages/sklearn/base.py:493: UserWarning: X does not have valid feature names, but DecisionTreeClassifier was fitted with feature names\n",
      "  warnings.warn(\n",
      "/Users/raulsood/Desktop/Google-Image-Scraper/venv/lib/python3.11/site-packages/sklearn/base.py:493: UserWarning: X does not have valid feature names, but DecisionTreeClassifier was fitted with feature names\n",
      "  warnings.warn(\n"
     ]
    }
   ],
   "source": [
    "import tkinter as tk\n",
    "# GUI Application\n",
    "class HealthApp(tk.Tk):\n",
    "    def __init__(self):\n",
    "        super().__init__()\n",
    "        self.title(\"Health Me Up!\")\n",
    "        self.configure(background='light gray')\n",
    "\n",
    "        # Input Fields\n",
    "        ttk.Label(self, text=\"Gender (Male=0, Female=1):\", background='light gray').grid(column=0, row=0, padx=10, pady=10)\n",
    "        self.gender = ttk.Entry(self)\n",
    "        self.gender.grid(column=1, row=0, padx=10, pady=10)\n",
    "\n",
    "        ttk.Label(self, text=\"Height (in cm):\", background='light gray').grid(column=0, row=1, padx=10, pady=10)\n",
    "        self.height = ttk.Entry(self)\n",
    "        self.height.grid(column=1, row=1, padx=10, pady=10)\n",
    "\n",
    "        ttk.Label(self, text=\"Weight (in kg):\", background='light gray').grid(column=0, row=2, padx=10, pady=10)\n",
    "        self.weight = ttk.Entry(self)\n",
    "        self.weight.grid(column=1, row=2, padx=10, pady=10)\n",
    "\n",
    "        # Predict Button\n",
    "        ttk.Button(self, text=\"Predict\", command=self.predict).grid(column=0, row=3, columnspan=2, pady=10)\n",
    "\n",
    "    def predict(self):\n",
    "        # Retrieve user input\n",
    "        try:\n",
    "            gender = int(self.gender.get())\n",
    "            height = int(self.height.get())\n",
    "            weight = int(self.weight.get())\n",
    "            # Make prediction\n",
    "            prediction = clf.predict([[gender, height, weight]])\n",
    "            messagebox.showinfo(\"Prediction\", f\"Your Health Index is: {prediction[0]}\")\n",
    "        except ValueError:\n",
    "            messagebox.showerror(\"Error\", \"Please enter valid numeric values.\")\n",
    "\n",
    "# Run the application\n",
    "if __name__ == \"__main__\":\n",
    "    app = HealthApp()\n",
    "    app.mainloop()"
   ]
  },
  {
   "cell_type": "code",
   "execution_count": null,
   "id": "692afce9-bf7c-447e-a6e4-4f3c6dbf5e6b",
   "metadata": {},
   "outputs": [],
   "source": []
  }
 ],
 "metadata": {
  "kernelspec": {
   "display_name": "Python 3 (ipykernel)",
   "language": "python",
   "name": "python3"
  },
  "language_info": {
   "codemirror_mode": {
    "name": "ipython",
    "version": 3
   },
   "file_extension": ".py",
   "mimetype": "text/x-python",
   "name": "python",
   "nbconvert_exporter": "python",
   "pygments_lexer": "ipython3",
   "version": "3.11.2"
  }
 },
 "nbformat": 4,
 "nbformat_minor": 5
}
